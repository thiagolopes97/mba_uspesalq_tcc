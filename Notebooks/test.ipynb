{
 "cells": [
  {
   "cell_type": "code",
   "execution_count": 46,
   "metadata": {},
   "outputs": [],
   "source": [
    "# #-- Lib install\n",
    "# !pip install yfinance==0.2.10 -q\n",
    "# !pip install pyyaml h5py -q\n",
    "# !pip install yahoo-finance -q\n",
    "# !pip install statsmodels -q"
   ]
  },
  {
   "cell_type": "markdown",
   "metadata": {},
   "source": [
    "# Train"
   ]
  },
  {
   "cell_type": "code",
   "execution_count": 1,
   "metadata": {},
   "outputs": [
    {
     "ename": "FileNotFoundError",
     "evalue": "[Errno 2] No such file or directory: '../Dataset/Main/df_train.csv'",
     "output_type": "error",
     "traceback": [
      "\u001b[0;31m---------------------------------------------------------------------------\u001b[0m",
      "\u001b[0;31mFileNotFoundError\u001b[0m                         Traceback (most recent call last)",
      "\u001b[1;32m/Users/cora/Documents/mba_uspesalq_tcc/Notebooks/test.ipynb Célula 3\u001b[0m in \u001b[0;36m<cell line: 79>\u001b[0;34m()\u001b[0m\n\u001b[1;32m     <a href='vscode-notebook-cell:/Users/cora/Documents/mba_uspesalq_tcc/Notebooks/test.ipynb#W2sZmlsZQ%3D%3D?line=68'>69</a>\u001b[0m     metrics_dict \u001b[39m=\u001b[39m {\n\u001b[1;32m     <a href='vscode-notebook-cell:/Users/cora/Documents/mba_uspesalq_tcc/Notebooks/test.ipynb#W2sZmlsZQ%3D%3D?line=69'>70</a>\u001b[0m         \u001b[39m'\u001b[39m\u001b[39mACCUR\u001b[39m\u001b[39m'\u001b[39m: metrics\u001b[39m.\u001b[39maccuracy_score(y_true, y_pred),\n\u001b[1;32m     <a href='vscode-notebook-cell:/Users/cora/Documents/mba_uspesalq_tcc/Notebooks/test.ipynb#W2sZmlsZQ%3D%3D?line=70'>71</a>\u001b[0m         \u001b[39m'\u001b[39m\u001b[39mPREC\u001b[39m\u001b[39m'\u001b[39m: metrics\u001b[39m.\u001b[39mprecision_score(y_true, y_pred),\n\u001b[0;32m   (...)\u001b[0m\n\u001b[1;32m     <a href='vscode-notebook-cell:/Users/cora/Documents/mba_uspesalq_tcc/Notebooks/test.ipynb#W2sZmlsZQ%3D%3D?line=73'>74</a>\u001b[0m         \u001b[39m'\u001b[39m\u001b[39mBAL_ACCUR\u001b[39m\u001b[39m'\u001b[39m: metrics\u001b[39m.\u001b[39mbalanced_accuracy_score(y_true, y_pred)\n\u001b[1;32m     <a href='vscode-notebook-cell:/Users/cora/Documents/mba_uspesalq_tcc/Notebooks/test.ipynb#W2sZmlsZQ%3D%3D?line=74'>75</a>\u001b[0m     }\n\u001b[1;32m     <a href='vscode-notebook-cell:/Users/cora/Documents/mba_uspesalq_tcc/Notebooks/test.ipynb#W2sZmlsZQ%3D%3D?line=76'>77</a>\u001b[0m     \u001b[39mreturn\u001b[39;00m metrics_dict\n\u001b[0;32m---> <a href='vscode-notebook-cell:/Users/cora/Documents/mba_uspesalq_tcc/Notebooks/test.ipynb#W2sZmlsZQ%3D%3D?line=78'>79</a>\u001b[0m df_train \u001b[39m=\u001b[39m pd\u001b[39m.\u001b[39;49mread_csv(\u001b[39m'\u001b[39;49m\u001b[39m../Dataset/Main/df_train.csv\u001b[39;49m\u001b[39m'\u001b[39;49m)\n\u001b[1;32m     <a href='vscode-notebook-cell:/Users/cora/Documents/mba_uspesalq_tcc/Notebooks/test.ipynb#W2sZmlsZQ%3D%3D?line=79'>80</a>\u001b[0m df_train[\u001b[39m'\u001b[39m\u001b[39mDate\u001b[39m\u001b[39m'\u001b[39m] \u001b[39m=\u001b[39m pd\u001b[39m.\u001b[39mto_datetime(df_train[\u001b[39m'\u001b[39m\u001b[39mDate\u001b[39m\u001b[39m'\u001b[39m])\n\u001b[1;32m     <a href='vscode-notebook-cell:/Users/cora/Documents/mba_uspesalq_tcc/Notebooks/test.ipynb#W2sZmlsZQ%3D%3D?line=81'>82</a>\u001b[0m \u001b[39m#df_train = df_train[df_train.Empresa == 'Apple'].reset_index(drop=True)\u001b[39;00m\n",
      "File \u001b[0;32m/Library/Frameworks/Python.framework/Versions/3.10/lib/python3.10/site-packages/pandas/util/_decorators.py:211\u001b[0m, in \u001b[0;36mdeprecate_kwarg.<locals>._deprecate_kwarg.<locals>.wrapper\u001b[0;34m(*args, **kwargs)\u001b[0m\n\u001b[1;32m    209\u001b[0m     \u001b[39melse\u001b[39;00m:\n\u001b[1;32m    210\u001b[0m         kwargs[new_arg_name] \u001b[39m=\u001b[39m new_arg_value\n\u001b[0;32m--> 211\u001b[0m \u001b[39mreturn\u001b[39;00m func(\u001b[39m*\u001b[39;49margs, \u001b[39m*\u001b[39;49m\u001b[39m*\u001b[39;49mkwargs)\n",
      "File \u001b[0;32m/Library/Frameworks/Python.framework/Versions/3.10/lib/python3.10/site-packages/pandas/util/_decorators.py:331\u001b[0m, in \u001b[0;36mdeprecate_nonkeyword_arguments.<locals>.decorate.<locals>.wrapper\u001b[0;34m(*args, **kwargs)\u001b[0m\n\u001b[1;32m    325\u001b[0m \u001b[39mif\u001b[39;00m \u001b[39mlen\u001b[39m(args) \u001b[39m>\u001b[39m num_allow_args:\n\u001b[1;32m    326\u001b[0m     warnings\u001b[39m.\u001b[39mwarn(\n\u001b[1;32m    327\u001b[0m         msg\u001b[39m.\u001b[39mformat(arguments\u001b[39m=\u001b[39m_format_argument_list(allow_args)),\n\u001b[1;32m    328\u001b[0m         \u001b[39mFutureWarning\u001b[39;00m,\n\u001b[1;32m    329\u001b[0m         stacklevel\u001b[39m=\u001b[39mfind_stack_level(),\n\u001b[1;32m    330\u001b[0m     )\n\u001b[0;32m--> 331\u001b[0m \u001b[39mreturn\u001b[39;00m func(\u001b[39m*\u001b[39;49margs, \u001b[39m*\u001b[39;49m\u001b[39m*\u001b[39;49mkwargs)\n",
      "File \u001b[0;32m/Library/Frameworks/Python.framework/Versions/3.10/lib/python3.10/site-packages/pandas/io/parsers/readers.py:950\u001b[0m, in \u001b[0;36mread_csv\u001b[0;34m(filepath_or_buffer, sep, delimiter, header, names, index_col, usecols, squeeze, prefix, mangle_dupe_cols, dtype, engine, converters, true_values, false_values, skipinitialspace, skiprows, skipfooter, nrows, na_values, keep_default_na, na_filter, verbose, skip_blank_lines, parse_dates, infer_datetime_format, keep_date_col, date_parser, dayfirst, cache_dates, iterator, chunksize, compression, thousands, decimal, lineterminator, quotechar, quoting, doublequote, escapechar, comment, encoding, encoding_errors, dialect, error_bad_lines, warn_bad_lines, on_bad_lines, delim_whitespace, low_memory, memory_map, float_precision, storage_options)\u001b[0m\n\u001b[1;32m    935\u001b[0m kwds_defaults \u001b[39m=\u001b[39m _refine_defaults_read(\n\u001b[1;32m    936\u001b[0m     dialect,\n\u001b[1;32m    937\u001b[0m     delimiter,\n\u001b[0;32m   (...)\u001b[0m\n\u001b[1;32m    946\u001b[0m     defaults\u001b[39m=\u001b[39m{\u001b[39m\"\u001b[39m\u001b[39mdelimiter\u001b[39m\u001b[39m\"\u001b[39m: \u001b[39m\"\u001b[39m\u001b[39m,\u001b[39m\u001b[39m\"\u001b[39m},\n\u001b[1;32m    947\u001b[0m )\n\u001b[1;32m    948\u001b[0m kwds\u001b[39m.\u001b[39mupdate(kwds_defaults)\n\u001b[0;32m--> 950\u001b[0m \u001b[39mreturn\u001b[39;00m _read(filepath_or_buffer, kwds)\n",
      "File \u001b[0;32m/Library/Frameworks/Python.framework/Versions/3.10/lib/python3.10/site-packages/pandas/io/parsers/readers.py:605\u001b[0m, in \u001b[0;36m_read\u001b[0;34m(filepath_or_buffer, kwds)\u001b[0m\n\u001b[1;32m    602\u001b[0m _validate_names(kwds\u001b[39m.\u001b[39mget(\u001b[39m\"\u001b[39m\u001b[39mnames\u001b[39m\u001b[39m\"\u001b[39m, \u001b[39mNone\u001b[39;00m))\n\u001b[1;32m    604\u001b[0m \u001b[39m# Create the parser.\u001b[39;00m\n\u001b[0;32m--> 605\u001b[0m parser \u001b[39m=\u001b[39m TextFileReader(filepath_or_buffer, \u001b[39m*\u001b[39;49m\u001b[39m*\u001b[39;49mkwds)\n\u001b[1;32m    607\u001b[0m \u001b[39mif\u001b[39;00m chunksize \u001b[39mor\u001b[39;00m iterator:\n\u001b[1;32m    608\u001b[0m     \u001b[39mreturn\u001b[39;00m parser\n",
      "File \u001b[0;32m/Library/Frameworks/Python.framework/Versions/3.10/lib/python3.10/site-packages/pandas/io/parsers/readers.py:1442\u001b[0m, in \u001b[0;36mTextFileReader.__init__\u001b[0;34m(self, f, engine, **kwds)\u001b[0m\n\u001b[1;32m   1439\u001b[0m     \u001b[39mself\u001b[39m\u001b[39m.\u001b[39moptions[\u001b[39m\"\u001b[39m\u001b[39mhas_index_names\u001b[39m\u001b[39m\"\u001b[39m] \u001b[39m=\u001b[39m kwds[\u001b[39m\"\u001b[39m\u001b[39mhas_index_names\u001b[39m\u001b[39m\"\u001b[39m]\n\u001b[1;32m   1441\u001b[0m \u001b[39mself\u001b[39m\u001b[39m.\u001b[39mhandles: IOHandles \u001b[39m|\u001b[39m \u001b[39mNone\u001b[39;00m \u001b[39m=\u001b[39m \u001b[39mNone\u001b[39;00m\n\u001b[0;32m-> 1442\u001b[0m \u001b[39mself\u001b[39m\u001b[39m.\u001b[39m_engine \u001b[39m=\u001b[39m \u001b[39mself\u001b[39;49m\u001b[39m.\u001b[39;49m_make_engine(f, \u001b[39mself\u001b[39;49m\u001b[39m.\u001b[39;49mengine)\n",
      "File \u001b[0;32m/Library/Frameworks/Python.framework/Versions/3.10/lib/python3.10/site-packages/pandas/io/parsers/readers.py:1735\u001b[0m, in \u001b[0;36mTextFileReader._make_engine\u001b[0;34m(self, f, engine)\u001b[0m\n\u001b[1;32m   1733\u001b[0m     \u001b[39mif\u001b[39;00m \u001b[39m\"\u001b[39m\u001b[39mb\u001b[39m\u001b[39m\"\u001b[39m \u001b[39mnot\u001b[39;00m \u001b[39min\u001b[39;00m mode:\n\u001b[1;32m   1734\u001b[0m         mode \u001b[39m+\u001b[39m\u001b[39m=\u001b[39m \u001b[39m\"\u001b[39m\u001b[39mb\u001b[39m\u001b[39m\"\u001b[39m\n\u001b[0;32m-> 1735\u001b[0m \u001b[39mself\u001b[39m\u001b[39m.\u001b[39mhandles \u001b[39m=\u001b[39m get_handle(\n\u001b[1;32m   1736\u001b[0m     f,\n\u001b[1;32m   1737\u001b[0m     mode,\n\u001b[1;32m   1738\u001b[0m     encoding\u001b[39m=\u001b[39;49m\u001b[39mself\u001b[39;49m\u001b[39m.\u001b[39;49moptions\u001b[39m.\u001b[39;49mget(\u001b[39m\"\u001b[39;49m\u001b[39mencoding\u001b[39;49m\u001b[39m\"\u001b[39;49m, \u001b[39mNone\u001b[39;49;00m),\n\u001b[1;32m   1739\u001b[0m     compression\u001b[39m=\u001b[39;49m\u001b[39mself\u001b[39;49m\u001b[39m.\u001b[39;49moptions\u001b[39m.\u001b[39;49mget(\u001b[39m\"\u001b[39;49m\u001b[39mcompression\u001b[39;49m\u001b[39m\"\u001b[39;49m, \u001b[39mNone\u001b[39;49;00m),\n\u001b[1;32m   1740\u001b[0m     memory_map\u001b[39m=\u001b[39;49m\u001b[39mself\u001b[39;49m\u001b[39m.\u001b[39;49moptions\u001b[39m.\u001b[39;49mget(\u001b[39m\"\u001b[39;49m\u001b[39mmemory_map\u001b[39;49m\u001b[39m\"\u001b[39;49m, \u001b[39mFalse\u001b[39;49;00m),\n\u001b[1;32m   1741\u001b[0m     is_text\u001b[39m=\u001b[39;49mis_text,\n\u001b[1;32m   1742\u001b[0m     errors\u001b[39m=\u001b[39;49m\u001b[39mself\u001b[39;49m\u001b[39m.\u001b[39;49moptions\u001b[39m.\u001b[39;49mget(\u001b[39m\"\u001b[39;49m\u001b[39mencoding_errors\u001b[39;49m\u001b[39m\"\u001b[39;49m, \u001b[39m\"\u001b[39;49m\u001b[39mstrict\u001b[39;49m\u001b[39m\"\u001b[39;49m),\n\u001b[1;32m   1743\u001b[0m     storage_options\u001b[39m=\u001b[39;49m\u001b[39mself\u001b[39;49m\u001b[39m.\u001b[39;49moptions\u001b[39m.\u001b[39;49mget(\u001b[39m\"\u001b[39;49m\u001b[39mstorage_options\u001b[39;49m\u001b[39m\"\u001b[39;49m, \u001b[39mNone\u001b[39;49;00m),\n\u001b[1;32m   1744\u001b[0m )\n\u001b[1;32m   1745\u001b[0m \u001b[39massert\u001b[39;00m \u001b[39mself\u001b[39m\u001b[39m.\u001b[39mhandles \u001b[39mis\u001b[39;00m \u001b[39mnot\u001b[39;00m \u001b[39mNone\u001b[39;00m\n\u001b[1;32m   1746\u001b[0m f \u001b[39m=\u001b[39m \u001b[39mself\u001b[39m\u001b[39m.\u001b[39mhandles\u001b[39m.\u001b[39mhandle\n",
      "File \u001b[0;32m/Library/Frameworks/Python.framework/Versions/3.10/lib/python3.10/site-packages/pandas/io/common.py:856\u001b[0m, in \u001b[0;36mget_handle\u001b[0;34m(path_or_buf, mode, encoding, compression, memory_map, is_text, errors, storage_options)\u001b[0m\n\u001b[1;32m    851\u001b[0m \u001b[39melif\u001b[39;00m \u001b[39misinstance\u001b[39m(handle, \u001b[39mstr\u001b[39m):\n\u001b[1;32m    852\u001b[0m     \u001b[39m# Check whether the filename is to be opened in binary mode.\u001b[39;00m\n\u001b[1;32m    853\u001b[0m     \u001b[39m# Binary mode does not support 'encoding' and 'newline'.\u001b[39;00m\n\u001b[1;32m    854\u001b[0m     \u001b[39mif\u001b[39;00m ioargs\u001b[39m.\u001b[39mencoding \u001b[39mand\u001b[39;00m \u001b[39m\"\u001b[39m\u001b[39mb\u001b[39m\u001b[39m\"\u001b[39m \u001b[39mnot\u001b[39;00m \u001b[39min\u001b[39;00m ioargs\u001b[39m.\u001b[39mmode:\n\u001b[1;32m    855\u001b[0m         \u001b[39m# Encoding\u001b[39;00m\n\u001b[0;32m--> 856\u001b[0m         handle \u001b[39m=\u001b[39m \u001b[39mopen\u001b[39;49m(\n\u001b[1;32m    857\u001b[0m             handle,\n\u001b[1;32m    858\u001b[0m             ioargs\u001b[39m.\u001b[39;49mmode,\n\u001b[1;32m    859\u001b[0m             encoding\u001b[39m=\u001b[39;49mioargs\u001b[39m.\u001b[39;49mencoding,\n\u001b[1;32m    860\u001b[0m             errors\u001b[39m=\u001b[39;49merrors,\n\u001b[1;32m    861\u001b[0m             newline\u001b[39m=\u001b[39;49m\u001b[39m\"\u001b[39;49m\u001b[39m\"\u001b[39;49m,\n\u001b[1;32m    862\u001b[0m         )\n\u001b[1;32m    863\u001b[0m     \u001b[39melse\u001b[39;00m:\n\u001b[1;32m    864\u001b[0m         \u001b[39m# Binary mode\u001b[39;00m\n\u001b[1;32m    865\u001b[0m         handle \u001b[39m=\u001b[39m \u001b[39mopen\u001b[39m(handle, ioargs\u001b[39m.\u001b[39mmode)\n",
      "\u001b[0;31mFileNotFoundError\u001b[0m: [Errno 2] No such file or directory: '../Dataset/Main/df_train.csv'"
     ]
    }
   ],
   "source": [
    "import pandas as pd\n",
    "import seaborn as sns\n",
    "import joblib\n",
    "from sklearn.preprocessing import StandardScaler\n",
    "from imblearn.under_sampling import RandomUnderSampler\n",
    "from sklearn.ensemble import AdaBoostClassifier\n",
    "from sklearn.tree import DecisionTreeClassifier\n",
    "from sklearn.model_selection import train_test_split\n",
    "from sklearn.model_selection import cross_val_score\n",
    "from sklearn.model_selection import GridSearchCV\n",
    "from sklearn import metrics\n",
    "import seaborn as sns\n",
    "import time\n",
    "import matplotlib.pyplot as plt\n",
    "import numpy as np\n",
    "\n",
    "def config_param(MLmodel, param, cv= 10, n_jobs=-1, scoring = 'balanced_accuracy'):\n",
    "    \n",
    "    grid_class = GridSearchCV(MLmodel, param, cv=cv,n_jobs=n_jobs, scoring = scoring)\n",
    "    \n",
    "    return MLmodel, grid_class\n",
    "\n",
    "def get_param(MLmodel, param, X,Y):    \n",
    "    \n",
    "    MLmodel, grid_class = config_param(MLmodel, param)\n",
    "    \n",
    "    return grid_class.fit(X,Y)\n",
    "\n",
    "\n",
    "def best_model(MLmodel,data_X,data_y,param):\n",
    "  print('----------------')\n",
    "  print('Início do CVGrid')\n",
    "  inicio = time.time()\n",
    "  all_param = get_param(MLmodel, param, data_X,data_y)\n",
    "  best_result = all_param.best_estimator_\n",
    "  final = time.time() - inicio\n",
    "  min = final/60 \n",
    "  print('Final do CVGrid')\n",
    "  print('Tempo de Execução: {} min '.format(min))\n",
    "  print('----------------')\n",
    "  return best_result\n",
    "\n",
    "def plot_results(y_pred,y_real):\n",
    "\n",
    "  ### Função de plotagem da matriz de confusão ###\n",
    "\n",
    "  ''' Esta função realiza o plot da matriz de confusão para análise visual do desempenho '''\n",
    "\n",
    "  # Criando a matrix de confusão para análise de eficiência\n",
    "  cnf_matrix = metrics.confusion_matrix(y_pred, y_real)\n",
    "  \n",
    "  # Plotagem da matriz de confusão e um Heatmap\n",
    "  class_names=[0,1] #  Nome das classes\n",
    "  fig, ax = plt.subplots()\n",
    "  tick_marks = np.arange(len(class_names))\n",
    "  plt.xticks(tick_marks, class_names)\n",
    "  plt.yticks(tick_marks, class_names)\n",
    "  \n",
    "  # Creando o heatmap com a matriz de confusão\n",
    "  sns.heatmap(pd.DataFrame(cnf_matrix), annot=True, cmap=\"YlGnBu\" ,fmt='g')\n",
    "  ax.xaxis.set_label_position(\"bottom\")\n",
    "  plt.tight_layout()\n",
    "  plt.title('Matriz de Confusão', y=1.1)\n",
    "  plt.ylabel('Valor real')\n",
    "  plt.xlabel('Valor previsto')\n",
    "\n",
    "\n",
    "def get_metrics(y_true, y_pred):\n",
    "    metrics_dict = {\n",
    "        'ACCUR': metrics.accuracy_score(y_true, y_pred),\n",
    "        'PREC': metrics.precision_score(y_true, y_pred),\n",
    "        'RECC': metrics.recall_score(y_true, y_pred),\n",
    "        'F1': metrics.f1_score(y_true, y_pred),\n",
    "        'BAL_ACCUR': metrics.balanced_accuracy_score(y_true, y_pred)\n",
    "    }\n",
    "\n",
    "    return metrics_dict\n",
    "\n",
    "df_train = pd.read_csv('../Dataset/Main/df_train.csv')\n",
    "df_train['Date'] = pd.to_datetime(df_train['Date'])\n",
    "\n",
    "#df_train = df_train[df_train.Empresa == 'Apple'].reset_index(drop=True)\n",
    "\n",
    "val_scaler = df_train.groupby('Empresa').agg({'Close':['max','min']})\n",
    "df_train['Close'] = df_train.apply(lambda x: apply_scaler(x, val_scaler),axis=1)\n",
    "joblib.dump(val_scaler, '../Model/Close_scaler')\n",
    "del val_scaler\n",
    "\n",
    "Coef_scaler = StandardScaler()\n",
    "coef_cols = [x for x in df_train.columns if 'coef' in x]\n",
    "df_train[coef_cols] = Coef_scaler.fit_transform(df_train[coef_cols])\n",
    "joblib.dump(Coef_scaler, '../Model/Coef_scaler')\n",
    "del Coef_scaler\n",
    "\n",
    "Volume_scaler = StandardScaler()\n",
    "df_train[['Volume']] = Volume_scaler.fit_transform(df_train[['Volume']])\n",
    "joblib.dump(Volume_scaler, '../Model/Volume_scaler')\n",
    "del Volume_scaler\n",
    "\n",
    "\n",
    "target_list = [1,2]\n",
    "df_train = df_train[df_train.target.isin(target_list)].reset_index(drop=True)\n",
    "\n",
    "df_train.head()\n"
   ]
  },
  {
   "cell_type": "code",
   "execution_count": null,
   "metadata": {},
   "outputs": [],
   "source": [
    "Close_scaler = joblib.load('../Model/Close_scaler')\n",
    "Coef_scaler = joblib.load('../Model/Coef_scaler')\n",
    "Volume_scaler = joblib.load('../Model/Volume_scaler')\n",
    "coef_cols = [x for x in df_train.columns if 'coef' in x]"
   ]
  },
  {
   "cell_type": "code",
   "execution_count": null,
   "metadata": {},
   "outputs": [],
   "source": [
    "# sns.pairplot(df_train,hue='Action', palette='icefire')"
   ]
  },
  {
   "cell_type": "code",
   "execution_count": null,
   "metadata": {},
   "outputs": [],
   "source": [
    "from sklearn.svm import NuSVC\n",
    "from sklearn.ensemble import RandomForestClassifier\n",
    "from sklearn.ensemble import ExtraTreesClassifier\n",
    "from sklearn.linear_model import LogisticRegression\n",
    "from sklearn.neural_network import MLPClassifier\n",
    "from xgboost import XGBClassifier"
   ]
  },
  {
   "cell_type": "code",
   "execution_count": null,
   "metadata": {},
   "outputs": [],
   "source": [
    "rus = RandomUnderSampler(random_state=0)\n",
    "\n",
    "X = df_train[['Close','Volume','coef_3', 'coef_7', 'coef_10', 'coef_15', 'coef_20', 'coef_30']]\n",
    "y = df_train[['target']]\n",
    "\n",
    "X_resampled, y_resampled = rus.fit_resample(X, y)"
   ]
  },
  {
   "cell_type": "code",
   "execution_count": null,
   "metadata": {},
   "outputs": [
    {
     "data": {
      "text/plain": [
       "0.9197255574614065"
      ]
     },
     "execution_count": 61,
     "metadata": {},
     "output_type": "execute_result"
    },
    {
     "data": {
      "image/png": "[encoded data removed]",
      "text/plain": [
       "<Figure size 432x288 with 2 Axes>"
      ]
     },
     "metadata": {
      "needs_background": "light"
     },
     "output_type": "display_data"
    }
   ],
   "source": [
    "\n",
    "\n",
    "AdaBoost_class = LogisticRegression() # MLPClassifier(hidden_layer_sizes=(200,200,100),max_iter=200)\n",
    "AdaBoost_class.fit(X_resampled, y_resampled)\n",
    "\n",
    "\n",
    "\n",
    "y_pred = AdaBoost_class.predict(X_resampled)\n",
    "y_true = y_resampled\n",
    "\n",
    "plot_results(y_pred,y_true)\n",
    "metrics.accuracy_score(y_true, y_pred)\n"
   ]
  },
  {
   "cell_type": "code",
   "execution_count": null,
   "metadata": {},
   "outputs": [
    {
     "data": {
      "image/png": "[encoded data removed]",
      "text/plain": [
       "<Figure size 432x288 with 1 Axes>"
      ]
     },
     "metadata": {
      "needs_background": "light"
     },
     "output_type": "display_data"
    }
   ],
   "source": [
    "importances = pd.DataFrame(data={\n",
    "    'Attribute': X_resampled.columns,\n",
    "    'Importance': AdaBoost_class.feature_importances_\n",
    "})\n",
    "importances = importances.sort_values(by='Importance', ascending=False)\n",
    "plt.bar(x=importances['Attribute'], height=importances['Importance'], color='#087E8B')\n",
    "plt.title('Feature importances obtained from coefficients', size=20)\n",
    "plt.xticks(rotation='vertical')\n",
    "plt.show()"
   ]
  },
  {
   "cell_type": "code",
   "execution_count": null,
   "metadata": {},
   "outputs": [
    {
     "name": "stdout",
     "output_type": "stream",
     "text": [
      "              precision    recall  f1-score   support\n",
      "\n",
      "           1       0.92      0.93      0.93       144\n",
      "           2       0.92      0.92      0.92       133\n",
      "\n",
      "    accuracy                           0.92       277\n",
      "   macro avg       0.92      0.92      0.92       277\n",
      "weighted avg       0.92      0.92      0.92       277\n",
      "\n"
     ]
    },
    {
     "data": {
      "image/png": "[encoded data removed]",
      "text/plain": [
       "<Figure size 432x288 with 2 Axes>"
      ]
     },
     "metadata": {
      "needs_background": "light"
     },
     "output_type": "display_data"
    }
   ],
   "source": [
    "df_test = pd.read_csv('../Dataset/Main/df_test.csv')\n",
    "df_test['Date'] = pd.to_datetime(df_test['Date'])\n",
    "df_test = df_test[df_test.target.isin(target_list)].reset_index(drop=True)\n",
    "\n",
    "#df_test = df_test[df_test.Empresa == 'Apple'].reset_index(drop=True)\n",
    "df_test[coef_cols] = Coef_scaler.transform(df_test[coef_cols])\n",
    "df_test[['Volume']] = Volume_scaler.transform(df_test[['Volume']])\n",
    "df_test['Close'] = df_test.apply(lambda x: apply_scaler(x, Close_scaler),axis=1)\n",
    "\n",
    "X = df_test[['Close','Volume','coef_3', 'coef_7', 'coef_10', 'coef_15', 'coef_20', 'coef_30']]\n",
    "y = df_test[['target']]\n",
    "\n",
    "y_pred = AdaBoost_class.predict(X)\n",
    "y_true = y\n",
    "plot_results(y_pred,y_true)\n",
    "print(metrics.classification_report(y_true,y_pred))\n",
    "\n"
   ]
  },
  {
   "cell_type": "markdown",
   "metadata": {},
   "source": [
    "# Test"
   ]
  },
  {
   "cell_type": "code",
   "execution_count": null,
   "metadata": {},
   "outputs": [],
   "source": [
    "\n",
    "\n",
    "param = {'base_estimator':[DecisionTreeClassifier(max_depth=5)],\n",
    "         'n_estimators':[10, 50],\n",
    "         'algorithm':['SAMME.R'],\n",
    "         'learning_rate':[0.5, 1, 1.5, 2]\n",
    "        }\n",
    "\n",
    "MLmodel = AdaBoostClassifier()\n",
    "BestModel = best_model(MLmodel, X_resampled, y_resampled,param)\n",
    "\n"
   ]
  },
  {
   "cell_type": "code",
   "execution_count": 3,
   "metadata": {},
   "outputs": [],
   "source": [
    "import pandas as pd\n",
    "import seaborn as sns\n",
    "df = pd.read_csv(f'/Users/cora/Documents/mba_uspesalq_tcc/Dataset/Main/amazon_main.csv')\n",
    "# df['Date'] = pd.to_datetime(df['Date'])\n",
    "# df['Mean'] = df['Close'].rolling(3).mean()\n",
    "\n",
    "# df['Dif'] = df['Open'] - df['Close']\n",
    "\n",
    "# df['loc_min'] = df.iloc[argrelextrema(df.Close.values, np.less_equal, order = n, mode='wrap',)[0]]['Close']\n",
    "# df['loc_max'] = df.iloc[argrelextrema(df.Close.values, np.greater_equal, order = n, mode='wrap',)[0]]['Close']\n",
    "# df['teste_max0'] = df['loc_max'].apply(lambda x: 1 if x > 0 else 0) \n",
    "# df['teste_max1'] = df['teste_max0'].shift(1)\n",
    "# df['teste_max2'] = df['teste_max0'].shift(-1)\n",
    "# df['teste_min0'] = df['loc_min'].apply(lambda x: 2 if x > 0 else 0) \n",
    "# df['teste_min1'] = df['teste_min0'].shift(1)\n",
    "# df['teste_min2'] = df['teste_min0'].shift(-1)\n",
    "# df['target'] = df[['teste_max0','teste_max1','teste_max2',\n",
    "#                         'teste_min0','teste_min1','teste_min2']].sum(axis=1).astype(int)\n",
    "# df['moment'] = df['target'].apply(lambda x: classify_sample(x))\n",
    "# df['Action'] = df['moment'].apply(lambda x: 0 if x == 'hold' else 1)\n",
    "\n",
    "# df = df[['Date','Close','Mean','Dif','Volume','Empresa', 'Symbol','target', 'moment', 'Action']].reset_index(drop=True)"
   ]
  },
  {
   "cell_type": "code",
   "execution_count": 11,
   "metadata": {},
   "outputs": [
    {
     "data": {
      "text/plain": [
       "<Axes: xlabel='Date', ylabel='Close'>"
      ]
     },
     "execution_count": 11,
     "metadata": {},
     "output_type": "execute_result"
    },
    {
     "data": {
      "image/png": "[encoded data removed]",
      "text/plain": [
       "<Figure size 432x288 with 1 Axes>"
      ]
     },
     "metadata": {
      "needs_background": "light"
     },
     "output_type": "display_data"
    }
   ],
   "source": [
    "df_temp = df[df.Date >= '2023-01-01'].copy()\n",
    "\n",
    "sns.lineplot(data=df_temp,x='Date',y='Close')\n",
    "sns.scatterplot(data=df_temp[df_temp.moment=='buy'],x='Date',y='Close',c='g')\n",
    "sns.scatterplot(data=df_temp[df_temp.moment=='sell'],x='Date',y='Close',c='r')"
   ]
  }
 ],
 "metadata": {
  "kernelspec": {
   "display_name": "Python 3",
   "language": "python",
   "name": "python3"
  },
  "language_info": {
   "codemirror_mode": {
    "name": "ipython",
    "version": 3
   },
   "file_extension": ".py",
   "mimetype": "text/x-python",
   "name": "python",
   "nbconvert_exporter": "python",
   "pygments_lexer": "ipython3",
   "version": "3.10.2"
  },
  "orig_nbformat": 4
 },
 "nbformat": 4,
 "nbformat_minor": 2
}
