{
 "cells": [
  {
   "attachments": {},
   "cell_type": "markdown",
   "metadata": {},
   "source": [
    "# Preprocessing"
   ]
  },
  {
   "cell_type": "code",
   "execution_count": 29,
   "metadata": {},
   "outputs": [
    {
     "data": {
      "text/plain": [
       "hold     81.857589\n",
       "buy       9.146341\n",
       "sell      8.892036\n",
       "error     0.104034\n",
       "Name: moment, dtype: float64"
      ]
     },
     "execution_count": 29,
     "metadata": {},
     "output_type": "execute_result"
    }
   ],
   "source": [
    "# IMPORTING PACKAGES\n",
    "\n",
    "import numpy as np\n",
    "import requests\n",
    "import pandas as pd\n",
    "import matplotlib.pyplot as plt\n",
    "from math import floor\n",
    "from termcolor import colored as cl\n",
    "from scipy.signal import argrelextrema\n",
    "import seaborn as sns\n",
    "\n",
    "def classify_sample(x):\n",
    "    class_dict = {0:'hold',1:'sell',2:'buy'}\n",
    "    if class_dict.get(x):\n",
    "        return class_dict.get(x)\n",
    "    else:\n",
    "        return 'error'\n",
    "\n",
    "#-- Lista de empresas\n",
    "empresa = {\n",
    "    'Apple': 'AAPL',\n",
    "    'Microsoft': 'MSFT',\n",
    "    'Google': 'GOOG',\n",
    "    'Amazon': 'AMZN',\n",
    "    'Tesla': 'TSLA',\n",
    "    'NVIDIA': 'NVDA',\n",
    "    'Meta': 'META'\n",
    "}\n",
    "\n",
    "\n",
    "def preprocessing(empresa):\n",
    "    n=10\n",
    "\n",
    "    df_list = []\n",
    "    for name,ativo in empresa.items():\n",
    "        df = pd.read_csv(f'../Dataset/Raw/{name.lower()}_data.csv')\n",
    "        df['Date'] = pd.to_datetime(df['Date'])\n",
    "        df['Mean'] = df['Close'].rolling(3).mean()\n",
    "\n",
    "        df['Dif'] = df['Open'] - df['Close']\n",
    "\n",
    "        df['loc_min'] = df.iloc[argrelextrema(df.Close.values, np.less_equal, order = n, mode='wrap',)[0]]['Close']\n",
    "        df['loc_max'] = df.iloc[argrelextrema(df.Close.values, np.greater_equal, order = n, mode='wrap',)[0]]['Close']\n",
    "        df['teste_max0'] = df['loc_max'].apply(lambda x: 1 if x > 0 else 0) \n",
    "        df['teste_max1'] = df['teste_max0'].shift(1)\n",
    "        df['teste_max2'] = df['teste_max0'].shift(-1)\n",
    "        df['teste_min0'] = df['loc_min'].apply(lambda x: 2 if x > 0 else 0) \n",
    "        df['teste_min1'] = df['teste_min0'].shift(1)\n",
    "        df['teste_min2'] = df['teste_min0'].shift(-1)\n",
    "        df['target'] = df[['teste_max0','teste_max1','teste_max2',\n",
    "                                'teste_min0','teste_min1','teste_min2']].sum(axis=1).astype(int)\n",
    "        df['moment'] = df['target'].apply(lambda x: classify_sample(x))\n",
    "        df['Action'] = df['moment'].apply(lambda x: 0 if x == 'hold' else 1)\n",
    "\n",
    "        df = df[['Date','Close','Mean','Dif','Volume','Empresa', 'Symbol','target', 'moment', 'Action']].reset_index(drop=True)\n",
    "        df.to_csv(f'../Dataset/Refined/{name.lower()}_ref.csv',index=False)\n",
    "        df_list.append(df)\n",
    "\n",
    "    new_df = pd.concat(df_list)\n",
    "    new_df.reset_index(drop=True,inplace=True)\n",
    "    new_df.to_csv(f'../Dataset/Refined/full_data_ref.csv',index=False)\n",
    "\n",
    "preprocessing(empresa)\n",
    "\n",
    "df = pd.read_csv('/Users/cora/Documents/mba_uspesalq_tcc/Dataset/Refined/full_data_ref.csv')\n",
    "df.moment.value_counts(normalize=True)*100\n",
    "\n"
   ]
  },
  {
   "cell_type": "code",
   "execution_count": 34,
   "metadata": {},
   "outputs": [
    {
     "data": {
      "text/html": [
       "<div>\n",
       "<style scoped>\n",
       "    .dataframe tbody tr th:only-of-type {\n",
       "        vertical-align: middle;\n",
       "    }\n",
       "\n",
       "    .dataframe tbody tr th {\n",
       "        vertical-align: top;\n",
       "    }\n",
       "\n",
       "    .dataframe thead th {\n",
       "        text-align: right;\n",
       "    }\n",
       "</style>\n",
       "<table border=\"1\" class=\"dataframe\">\n",
       "  <thead>\n",
       "    <tr style=\"text-align: right;\">\n",
       "      <th></th>\n",
       "      <th>Date</th>\n",
       "      <th>Close</th>\n",
       "      <th>Mean</th>\n",
       "      <th>Dif</th>\n",
       "      <th>Volume</th>\n",
       "      <th>Empresa</th>\n",
       "      <th>Symbol</th>\n",
       "      <th>target</th>\n",
       "      <th>moment</th>\n",
       "      <th>Action</th>\n",
       "    </tr>\n",
       "  </thead>\n",
       "  <tbody>\n",
       "    <tr>\n",
       "      <th>5787</th>\n",
       "      <td>2023-01-03</td>\n",
       "      <td>124.538666</td>\n",
       "      <td>127.658681</td>\n",
       "      <td>5.187865</td>\n",
       "      <td>112117500</td>\n",
       "      <td>Apple</td>\n",
       "      <td>AAPL</td>\n",
       "      <td>0</td>\n",
       "      <td>hold</td>\n",
       "      <td>0</td>\n",
       "    </tr>\n",
       "    <tr>\n",
       "      <th>5788</th>\n",
       "      <td>2023-01-04</td>\n",
       "      <td>125.823189</td>\n",
       "      <td>126.579954</td>\n",
       "      <td>0.527747</td>\n",
       "      <td>89113600</td>\n",
       "      <td>Apple</td>\n",
       "      <td>AAPL</td>\n",
       "      <td>2</td>\n",
       "      <td>buy</td>\n",
       "      <td>1</td>\n",
       "    </tr>\n",
       "    <tr>\n",
       "      <th>5789</th>\n",
       "      <td>2023-01-05</td>\n",
       "      <td>124.488876</td>\n",
       "      <td>124.950244</td>\n",
       "      <td>2.101037</td>\n",
       "      <td>80962700</td>\n",
       "      <td>Apple</td>\n",
       "      <td>AAPL</td>\n",
       "      <td>2</td>\n",
       "      <td>buy</td>\n",
       "      <td>1</td>\n",
       "    </tr>\n",
       "    <tr>\n",
       "      <th>5790</th>\n",
       "      <td>2023-01-06</td>\n",
       "      <td>129.069321</td>\n",
       "      <td>126.460462</td>\n",
       "      <td>-3.594656</td>\n",
       "      <td>87754700</td>\n",
       "      <td>Apple</td>\n",
       "      <td>AAPL</td>\n",
       "      <td>2</td>\n",
       "      <td>buy</td>\n",
       "      <td>1</td>\n",
       "    </tr>\n",
       "    <tr>\n",
       "      <th>5791</th>\n",
       "      <td>2023-01-09</td>\n",
       "      <td>129.597061</td>\n",
       "      <td>127.718419</td>\n",
       "      <td>0.318648</td>\n",
       "      <td>70790800</td>\n",
       "      <td>Apple</td>\n",
       "      <td>AAPL</td>\n",
       "      <td>0</td>\n",
       "      <td>hold</td>\n",
       "      <td>0</td>\n",
       "    </tr>\n",
       "  </tbody>\n",
       "</table>\n",
       "</div>"
      ],
      "text/plain": [
       "            Date       Close        Mean       Dif     Volume Empresa Symbol  \\\n",
       "5787  2023-01-03  124.538666  127.658681  5.187865  112117500   Apple   AAPL   \n",
       "5788  2023-01-04  125.823189  126.579954  0.527747   89113600   Apple   AAPL   \n",
       "5789  2023-01-05  124.488876  124.950244  2.101037   80962700   Apple   AAPL   \n",
       "5790  2023-01-06  129.069321  126.460462 -3.594656   87754700   Apple   AAPL   \n",
       "5791  2023-01-09  129.597061  127.718419  0.318648   70790800   Apple   AAPL   \n",
       "\n",
       "      target moment  Action  \n",
       "5787       0   hold       0  \n",
       "5788       2    buy       1  \n",
       "5789       2    buy       1  \n",
       "5790       2    buy       1  \n",
       "5791       0   hold       0  "
      ]
     },
     "metadata": {},
     "output_type": "display_data"
    },
    {
     "data": {
      "text/plain": [
       "<Axes: xlabel='Date', ylabel='Close'>"
      ]
     },
     "execution_count": 34,
     "metadata": {},
     "output_type": "execute_result"
    },
    {
     "data": {
      "image/png": "[encoded data removed]",
      "text/plain": [
       "<Figure size 432x288 with 1 Axes>"
      ]
     },
     "metadata": {
      "needs_background": "light"
     },
     "output_type": "display_data"
    }
   ],
   "source": [
    "import pandas as pd\n",
    "import seaborn as sns\n",
    "df = pd.read_csv('/Users/cora/Documents/mba_uspesalq_tcc/Dataset/Refined/apple_ref.csv')\n",
    "df = df[df.Date >= '2023-01-01']\n",
    "\n",
    "display(df.head())\n",
    "\n",
    "\n",
    "sns.scatterplot(data=df,x='Date',y='Close',hue='Action')\n",
    "# sns.scatterplot(data=df[df.moment == 'sell'],x='Close',y='Dif',label='sell',c='g')\n",
    "# sns.scatterplot(data=df[df.moment == 'buy'],x='Close',y='Dif',label='buy',c='r')\n",
    "# sns.scatterplot(data=df[df.moment == 'error'],x='Close',y='Dif',label='error',c='k')\n"
   ]
  }
 ],
 "metadata": {
  "kernelspec": {
   "display_name": "Python 3",
   "language": "python",
   "name": "python3"
  },
  "language_info": {
   "codemirror_mode": {
    "name": "ipython",
    "version": 3
   },
   "file_extension": ".py",
   "mimetype": "text/x-python",
   "name": "python",
   "nbconvert_exporter": "python",
   "pygments_lexer": "ipython3",
   "version": "3.10.2"
  },
  "orig_nbformat": 4
 },
 "nbformat": 4,
 "nbformat_minor": 2
}
