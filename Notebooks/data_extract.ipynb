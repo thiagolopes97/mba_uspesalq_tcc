{
 "cells": [
  {
   "attachments": {},
   "cell_type": "markdown",
   "metadata": {},
   "source": [
    "# Extract Data"
   ]
  },
  {
   "cell_type": "code",
   "execution_count": 7,
   "metadata": {},
   "outputs": [],
   "source": [
    "# #-- Lib install\n",
    "# !pip install yfinance==0.2.10 -q\n",
    "# !pip install pyyaml h5py -q\n",
    "# !pip install yahoo-finance -q"
   ]
  },
  {
   "cell_type": "code",
   "execution_count": 8,
   "metadata": {},
   "outputs": [],
   "source": [
    "#-- Lib import\n",
    "import pandas as pd\n",
    "import datetime as dt\n",
    "import time\n",
    "import yfinance as yf"
   ]
  },
  {
   "cell_type": "code",
   "execution_count": 9,
   "metadata": {},
   "outputs": [],
   "source": [
    "#-- Lista de empresas\n",
    "empresa = {\n",
    "    'Apple': 'AAPL',\n",
    "    'Microsoft': 'MSFT',\n",
    "    'Google': 'GOOG',\n",
    "    'Amazon': 'AMZN',\n",
    "    'Tesla': 'TSLA',\n",
    "    'NVIDIA': 'NVDA',\n",
    "    'Meta': 'META',\n",
    "    'Tencent': 'TCEHY',\n",
    "    'Samsung': '005930.KS'\n",
    "}"
   ]
  },
  {
   "cell_type": "code",
   "execution_count": 11,
   "metadata": {},
   "outputs": [],
   "source": [
    "#-- Download data\n",
    "df_list = {}\n",
    "for name,ativo in empresa.items():\n",
    "  teste = yf.Ticker(ativo)\n",
    "  teste = teste.history(interval = '1d',\n",
    "                        start = '2000-01-01',\n",
    "                        end = '2023-07-01')\n",
    "  teste['Empresa'] = name\n",
    "  teste['Symbol'] = ativo\n",
    "  teste.to_csv(f'/Users/cora/Documents/mba_uspesalq_tcc/Dataset/Raw/{name.lower()}_data.csv',index=False)\n",
    "  df_list[ativo] = teste\n",
    "\n",
    "\n",
    "new_df = pd.concat(df_list.values())\n",
    "new_df.reset_index(drop=False,inplace=True)\n",
    "new_df.to_csv(f'/Users/cora/Documents/mba_uspesalq_tcc/Dataset/Raw/full_data.csv',index=False)"
   ]
  },
  {
   "attachments": {},
   "cell_type": "markdown",
   "metadata": {},
   "source": [
    "# EDA Raw data"
   ]
  },
  {
   "cell_type": "code",
   "execution_count": 13,
   "metadata": {},
   "outputs": [
    {
     "data": {
      "text/plain": [
       "Apple        5911\n",
       "Microsoft    5911\n",
       "Amazon       5911\n",
       "NVIDIA       5911\n",
       "Samsung      5894\n",
       "Google       4749\n",
       "Tencent      3395\n",
       "Tesla        3274\n",
       "Meta         2797\n",
       "Name: Empresa, dtype: int64"
      ]
     },
     "execution_count": 13,
     "metadata": {},
     "output_type": "execute_result"
    }
   ],
   "source": [
    "new_df.Empresa.value_counts()"
   ]
  }
 ],
 "metadata": {
  "kernelspec": {
   "display_name": "Python 3",
   "language": "python",
   "name": "python3"
  },
  "language_info": {
   "codemirror_mode": {
    "name": "ipython",
    "version": 3
   },
   "file_extension": ".py",
   "mimetype": "text/x-python",
   "name": "python",
   "nbconvert_exporter": "python",
   "pygments_lexer": "ipython3",
   "version": "3.10.2"
  },
  "orig_nbformat": 4
 },
 "nbformat": 4,
 "nbformat_minor": 2
}
